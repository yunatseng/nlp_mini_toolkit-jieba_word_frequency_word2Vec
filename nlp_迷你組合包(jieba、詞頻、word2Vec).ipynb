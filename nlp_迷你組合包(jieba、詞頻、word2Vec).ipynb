{
  "nbformat": 4,
  "nbformat_minor": 0,
  "metadata": {
    "colab": {
      "provenance": [],
      "authorship_tag": "ABX9TyNhTDrmNyebZtu0j1DTPGqu",
      "include_colab_link": true
    },
    "kernelspec": {
      "name": "python3",
      "display_name": "Python 3"
    },
    "language_info": {
      "name": "python"
    }
  },
  "cells": [
    {
      "cell_type": "markdown",
      "metadata": {
        "id": "view-in-github",
        "colab_type": "text"
      },
      "source": [
        "<a href=\"https://colab.research.google.com/github/yunatseng/nlp_mini_toolkit-jieba_word_frequency_word2Vec/blob/main/nlp_%E8%BF%B7%E4%BD%A0%E7%B5%84%E5%90%88%E5%8C%85(jieba%E3%80%81%E8%A9%9E%E9%A0%BB%E3%80%81word2Vec).ipynb\" target=\"_parent\"><img src=\"https://colab.research.google.com/assets/colab-badge.svg\" alt=\"Open In Colab\"/></a>"
      ]
    },
    {
      "cell_type": "code",
      "execution_count": 1,
      "metadata": {
        "colab": {
          "base_uri": "https://localhost:8080/"
        },
        "id": "RLMeZfWA0Zoc",
        "outputId": "ea9c65cc-3aa1-4bd1-d01c-23acccf8d492"
      },
      "outputs": [
        {
          "output_type": "stream",
          "name": "stdout",
          "text": [
            "Looking in indexes: https://pypi.org/simple, https://us-python.pkg.dev/colab-wheels/public/simple/\n",
            "Collecting git+https://github.com/APCLab/jieba-tw.git\n",
            "  Cloning https://github.com/APCLab/jieba-tw.git to /tmp/pip-req-build-xsylpfcw\n",
            "  Running command git clone --filter=blob:none --quiet https://github.com/APCLab/jieba-tw.git /tmp/pip-req-build-xsylpfcw\n",
            "  Resolved https://github.com/APCLab/jieba-tw.git to commit 2bd4c0913cdadc865879b21a00c78e28ef1ba2c5\n",
            "  Preparing metadata (setup.py) ... \u001b[?25l\u001b[?25hdone\n",
            "Building wheels for collected packages: jieba\n",
            "  Building wheel for jieba (setup.py) ... \u001b[?25l\u001b[?25hdone\n",
            "  Created wheel for jieba: filename=jieba-0.39.1-py3-none-any.whl size=6603877 sha256=4aad9393ce771e8497697ff35952f0154c5efe452ccc4fc186a634f403439e38\n",
            "  Stored in directory: /tmp/pip-ephem-wheel-cache-pk1zjonr/wheels/f3/92/35/5e2679360de6fd4c424678c139718c898f0a87ae600458aa76\n",
            "Successfully built jieba\n",
            "Installing collected packages: jieba\n",
            "  Attempting uninstall: jieba\n",
            "    Found existing installation: jieba 0.42.1\n",
            "    Uninstalling jieba-0.42.1:\n",
            "      Successfully uninstalled jieba-0.42.1\n",
            "Successfully installed jieba-0.39.1\n"
          ]
        }
      ],
      "source": [
        "## 安裝繁體中文字版本結巴\n",
        "!pip install git+https://github.com/APCLab/jieba-tw.git"
      ]
    },
    {
      "cell_type": "code",
      "source": [
        "import jieba"
      ],
      "metadata": {
        "id": "-TZPuWcN2OlS"
      },
      "execution_count": 2,
      "outputs": []
    },
    {
      "cell_type": "code",
      "source": [
        "## 斷詞測試\n",
        "seg_list = jieba.cut(\"新竹的交通大學在新竹的大學路上\")\n",
        "print(\" / \".join(seg_list))"
      ],
      "metadata": {
        "colab": {
          "base_uri": "https://localhost:8080/"
        },
        "id": "eK4d0h-Y2gTM",
        "outputId": "e3ab0a2b-8718-415b-8657-a0d7e0b1ab52"
      },
      "execution_count": 3,
      "outputs": [
        {
          "output_type": "stream",
          "name": "stderr",
          "text": [
            "Building prefix dict from the default dictionary ...\n",
            "DEBUG:jieba:Building prefix dict from the default dictionary ...\n",
            "Dumping model to file cache /tmp/jieba.cache\n",
            "DEBUG:jieba:Dumping model to file cache /tmp/jieba.cache\n",
            "Loading model cost 1.387 seconds.\n",
            "DEBUG:jieba:Loading model cost 1.387 seconds.\n",
            "Prefix dict has been built succesfully.\n",
            "DEBUG:jieba:Prefix dict has been built succesfully.\n"
          ]
        },
        {
          "output_type": "stream",
          "name": "stdout",
          "text": [
            "新竹 / 的 / 交通 / 大學 / 在 / 新竹 / 的 / 大學路 / 上\n"
          ]
        }
      ]
    },
    {
      "cell_type": "code",
      "source": [
        "## 建立中文停用詞（無意義詞）你可自行新增\n",
        "stopwords = set(['，', '。', '！', '？', '、', '；', '：', '『', '』', '「', '」', '【', '】', '（', '）', '《', '》', \n",
        "                       ',', '.', '!', '?', ';', ':', '[', ']', '{', '}', '(', ')', '<', '>', '-', '_', '=', '+', \n",
        "                       '`', '~', '@', '#', '$', '%', '^', '&', '*', '/', '\\\\', '|', '的', '地', '得', '了', '就', \n",
        "                       '是', '都', '和', '與', '及', '或', '等', '著', '又', '再', '因', '但', '從', '乃', '來', '蒙', \n",
        "                       '你', '我', '他', '她', '它', '們', '啊', '呀', '嗎', '咧', '吧', '哇', '哈', '呢', '啦', '了', \n",
        "                       '呵', '嘛', '嗚', '唉', '咦', '嗨', '嘿', '欸', '是不是', '好不好', '能不能', '有沒有', '怎麼樣', \n",
        "                       '怎麼', '怎樣', '這樣', '那樣', '這麼', '那麼', '這裡', '那裡', '哪裡'])\n"
      ],
      "metadata": {
        "id": "3YI277fY2pvn"
      },
      "execution_count": 4,
      "outputs": []
    },
    {
      "cell_type": "code",
      "source": [
        "## 建立假資料範例（假設是業務員問券）\n",
        "import pandas as pd\n",
        "data = {'業務員姓名': ['張三', '李四', '張三', '王五', '李四'],\n",
        "        '顧客名稱': ['陳小姐', '王先生', '蔡小姐', '張先生', '林小姐'],\n",
        "        '產品名稱': ['產品 A', '產品 B', '產品 C', '產品 D', '產品 E'],\n",
        "        '日期': ['2022-01-01', '2022-01-02', '2022-01-03', '2022-01-04', '2022-01-05'],\n",
        "        '業務員心得': ['產品 A 的銷售效果良好，建議在促銷活動中多宣傳',\n",
        "                   '顧客對產品 B 的滿意度很高，需要注意庫存量',\n",
        "                   '蔡小姐對產品 C 的興趣不大，建議針對不同的客戶推薦不同的產品',\n",
        "                   '產品 D 的市場競爭激烈，需要加強銷售技巧',\n",
        "                   '林小姐對產品 E 的問題不多，需要更多了解顧客需求']\n",
        "       }\n",
        "\n",
        "df = pd.DataFrame(data)\n",
        "\n",
        "print(df)"
      ],
      "metadata": {
        "colab": {
          "base_uri": "https://localhost:8080/"
        },
        "id": "Xk19kUL_50DJ",
        "outputId": "769bf316-0ac4-45d8-b099-893807530767"
      },
      "execution_count": 7,
      "outputs": [
        {
          "output_type": "stream",
          "name": "stdout",
          "text": [
            "  業務員姓名 顧客名稱  產品名稱          日期                            業務員心得\n",
            "0    張三  陳小姐  產品 A  2022-01-01         產品 A 的銷售效果良好，建議在促銷活動中多宣傳\n",
            "1    李四  王先生  產品 B  2022-01-02           顧客對產品 B 的滿意度很高，需要注意庫存量\n",
            "2    張三  蔡小姐  產品 C  2022-01-03  蔡小姐對產品 C 的興趣不大，建議針對不同的客戶推薦不同的產品\n",
            "3    王五  張先生  產品 D  2022-01-04            產品 D 的市場競爭激烈，需要加強銷售技巧\n",
            "4    李四  林小姐  產品 E  2022-01-05        林小姐對產品 E 的問題不多，需要更多了解顧客需求\n"
          ]
        }
      ]
    },
    {
      "cell_type": "code",
      "source": [
        "def process(content):\n",
        "    # 過濾掉停用词、空白格\n",
        "    content = \"\".join(filter(lambda x: x not in stopwords, content)).replace(\" \", \"\")\n",
        "    # 使用 jieba 對文本進行分詞\n",
        "    content = \",\".join(jieba.cut(content))\n",
        "    return content\n",
        "content_業務員心得 = df[\"業務員心得\"].apply(process)\n",
        "content_業務員心得"
      ],
      "metadata": {
        "colab": {
          "base_uri": "https://localhost:8080/"
        },
        "id": "mRgjOIyn6Mhc",
        "outputId": "09205575-fb74-4be1-c918-fadf18d17c71"
      },
      "execution_count": 15,
      "outputs": [
        {
          "output_type": "execute_result",
          "data": {
            "text/plain": [
              "0            產品,A,銷售,效果,良好,建議,在,促銷,活動,中,多,宣傳\n",
              "1                顧客,對,產品,B,滿意度,很,高,需要,注意,庫存量\n",
              "2    蔡,小姐,對,產品,C,興趣,不,大,建議,針對,不同,客戶,推薦,不同,產品\n",
              "3                  產品,D,市場,競爭,激烈,需要,加強,銷售,技巧\n",
              "4            林,小姐,對,產品,E,問題,不多,需要,更多,解,顧客,需求\n",
              "Name: 業務員心得, dtype: object"
            ]
          },
          "metadata": {},
          "execution_count": 15
        }
      ]
    },
    {
      "cell_type": "code",
      "source": [
        "## 你可以把有些不想被斷掉的詞這樣加進去\n",
        "jieba.suggest_freq('不多', True)"
      ],
      "metadata": {
        "colab": {
          "base_uri": "https://localhost:8080/"
        },
        "id": "YKC7qsBxCuwl",
        "outputId": "7c7ee796-a428-4cfb-8117-b023afca64f2"
      },
      "execution_count": 8,
      "outputs": [
        {
          "output_type": "execute_result",
          "data": {
            "text/plain": [
              "172"
            ]
          },
          "metadata": {},
          "execution_count": 8
        }
      ]
    },
    {
      "cell_type": "code",
      "source": [
        "## 這樣 “不多” 就不會被斷掉\n",
        "content_業務員心得 = df[\"業務員心得\"].apply(process)\n",
        "content_業務員心得"
      ],
      "metadata": {
        "colab": {
          "base_uri": "https://localhost:8080/"
        },
        "id": "NNsKaz0nC3la",
        "outputId": "b6e78f59-4145-49a5-eb3a-8b174532982b"
      },
      "execution_count": 16,
      "outputs": [
        {
          "output_type": "execute_result",
          "data": {
            "text/plain": [
              "0            產品,A,銷售,效果,良好,建議,在,促銷,活動,中,多,宣傳\n",
              "1                顧客,對,產品,B,滿意度,很,高,需要,注意,庫存量\n",
              "2    蔡,小姐,對,產品,C,興趣,不,大,建議,針對,不同,客戶,推薦,不同,產品\n",
              "3                  產品,D,市場,競爭,激烈,需要,加強,銷售,技巧\n",
              "4            林,小姐,對,產品,E,問題,不多,需要,更多,解,顧客,需求\n",
              "Name: 業務員心得, dtype: object"
            ]
          },
          "metadata": {},
          "execution_count": 16
        }
      ]
    },
    {
      "cell_type": "code",
      "source": [
        "## 詞頻統計\n",
        "from collections import Counter\n",
        "\n",
        "# 計算詞頻\n",
        "word_freq = Counter(\",\".join(content_業務員心得).split(\",\"))\n",
        "\n",
        "# 輸出前 10 個詞彙及其出現次數\n",
        "for word, freq in word_freq.most_common(10):\n",
        "    print(word, freq)"
      ],
      "metadata": {
        "colab": {
          "base_uri": "https://localhost:8080/"
        },
        "id": "ZXY26QyPEcn-",
        "outputId": "8010d0c1-f73e-40f8-f898-012c623d008c"
      },
      "execution_count": 17,
      "outputs": [
        {
          "output_type": "stream",
          "name": "stdout",
          "text": [
            "產品 6\n",
            "對 3\n",
            "需要 3\n",
            "銷售 2\n",
            "建議 2\n",
            "顧客 2\n",
            "小姐 2\n",
            "不同 2\n",
            "A 1\n",
            "效果 1\n"
          ]
        }
      ]
    },
    {
      "cell_type": "code",
      "source": [
        "# 將經過分词和去除停用詞的句子儲存在列表中\n",
        "corpus = [sentence.split(',') for sentence in content_業務員心得]\n",
        "\n",
        "clean_corpus = []\n",
        "\n",
        "# 遍歷原始句子列表\n",
        "for sentence in corpus:\n",
        "    words_clean = []\n",
        "    for word in sentence:\n",
        "      # 句子長度要 >1 \n",
        "        if len(word) > 1: \n",
        "          # 假如你不要數字，（這些條件都可以自行修改）\n",
        "            if not word.isdigit():\n",
        "                words_clean.append(word.strip())\n",
        "    clean_corpus.append(words_clean)\n",
        "\n",
        "# 做以上這些都是為了要符合餵進去 word2vec 所需要的格式\n",
        "print(clean_corpus)\n"
      ],
      "metadata": {
        "colab": {
          "base_uri": "https://localhost:8080/"
        },
        "id": "4lU91McfIZpX",
        "outputId": "889cd257-62a6-4ea2-c9f0-e6906a5d4309"
      },
      "execution_count": 71,
      "outputs": [
        {
          "output_type": "stream",
          "name": "stdout",
          "text": [
            "[['產品', '銷售', '效果', '良好', '建議', '促銷', '活動', '宣傳'], ['顧客', '產品', '滿意度', '需要', '注意', '庫存量'], ['小姐', '產品', '興趣', '建議', '針對', '不同', '客戶', '推薦', '不同', '產品'], ['產品', '市場', '競爭', '激烈', '需要', '加強', '銷售', '技巧'], ['小姐', '產品', '問題', '不多', '需要', '更多', '顧客', '需求']]\n"
          ]
        }
      ]
    },
    {
      "cell_type": "code",
      "source": [
        "from gensim.models import Word2Vec\n",
        "\n",
        "# 使用 Word2Vec 模型訓練詞向量\n",
        "\n",
        "# clean_corpus：經過清洗後的句子列表，每個元素是一個由多個單詞組成的列表。\n",
        "# size：指定詞向量的維度，通常在幾十到幾百之間。\n",
        "# window：指定訓練時上下文的窗口大小，即每個詞向量所考慮的上下文單詞數。\n",
        "# min_count：指定最小詞頻，低於該詞頻的單詞將被忽略。\n",
        "\n",
        "model = Word2Vec(clean_corpus, size=24, window=5, min_count=0)"
      ],
      "metadata": {
        "colab": {
          "base_uri": "https://localhost:8080/"
        },
        "id": "rY9RgTEIKzLr",
        "outputId": "e7d0a639-502a-4388-85cc-4ae1cf44858d"
      },
      "execution_count": 74,
      "outputs": [
        {
          "output_type": "stream",
          "name": "stderr",
          "text": [
            "WARNING:gensim.models.base_any2vec:under 10 jobs per worker: consider setting a smaller `batch_words' for smoother alpha decay\n"
          ]
        }
      ]
    },
    {
      "cell_type": "code",
      "source": [
        "## 保存訓練後的模型\n",
        "model.save('./word2vec_ag')   "
      ],
      "metadata": {
        "id": "nJW4DN1rLqk8"
      },
      "execution_count": 75,
      "outputs": []
    },
    {
      "cell_type": "code",
      "source": [
        "## 載入模型\n",
        "model = Word2Vec.load('word2vec_ag')"
      ],
      "metadata": {
        "id": "YxIwipM2L1HJ"
      },
      "execution_count": 76,
      "outputs": []
    },
    {
      "cell_type": "code",
      "source": [
        "## 看一下 model 訓練的 vocab（詞彙列表）\n",
        "for word in model.wv.vocab:\n",
        "    print(word)"
      ],
      "metadata": {
        "colab": {
          "base_uri": "https://localhost:8080/"
        },
        "id": "fKGx_ZInOL4D",
        "outputId": "33b944cf-e122-4a66-81c5-daf61a646ed1"
      },
      "execution_count": 77,
      "outputs": [
        {
          "output_type": "stream",
          "name": "stdout",
          "text": [
            "產品\n",
            "銷售\n",
            "效果\n",
            "良好\n",
            "建議\n",
            "促銷\n",
            "活動\n",
            "宣傳\n",
            "顧客\n",
            "滿意度\n",
            "需要\n",
            "注意\n",
            "庫存量\n",
            "小姐\n",
            "興趣\n",
            "針對\n",
            "不同\n",
            "客戶\n",
            "推薦\n",
            "市場\n",
            "競爭\n",
            "激烈\n",
            "加強\n",
            "技巧\n",
            "問題\n",
            "不多\n",
            "更多\n",
            "需求\n"
          ]
        }
      ]
    },
    {
      "cell_type": "code",
      "source": [
        "## '產品'的詞向量\n",
        "print(model['產品'])"
      ],
      "metadata": {
        "colab": {
          "base_uri": "https://localhost:8080/"
        },
        "id": "3qo2BInFL61m",
        "outputId": "92715a4f-6add-444d-d33e-7bb6f1a34353"
      },
      "execution_count": 78,
      "outputs": [
        {
          "output_type": "stream",
          "name": "stdout",
          "text": [
            "[ 0.01801009  0.01697234 -0.00592313  0.0205269   0.00203281 -0.00247593\n",
            "  0.01676872 -0.00261085  0.01471303 -0.01128871 -0.01307462 -0.00291968\n",
            "  0.00023776  0.01061178  0.00969325  0.01531095 -0.00860407  0.01041895\n",
            " -0.0071913  -0.01322708 -0.00923305 -0.01212226 -0.01174266 -0.00976884]\n"
          ]
        },
        {
          "output_type": "stream",
          "name": "stderr",
          "text": [
            "<ipython-input-78-f78a1ac0d7b9>:1: DeprecationWarning: Call to deprecated `__getitem__` (Method will be removed in 4.0.0, use self.wv.__getitem__() instead).\n",
            "  print(model['產品'])\n"
          ]
        }
      ]
    },
    {
      "cell_type": "code",
      "source": [
        "## 看看最相近的詞有哪些\n",
        "model.wv.most_similar(\"產品\" , topn=10)"
      ],
      "metadata": {
        "colab": {
          "base_uri": "https://localhost:8080/"
        },
        "id": "7VrWKPNXNKz0",
        "outputId": "5bfc9a01-fe81-4139-e00e-22a180cfa79d"
      },
      "execution_count": 79,
      "outputs": [
        {
          "output_type": "execute_result",
          "data": {
            "text/plain": [
              "[('滿意度', 0.2540680468082428),\n",
              " ('問題', 0.1913163661956787),\n",
              " ('更多', 0.17747676372528076),\n",
              " ('不多', 0.1480388641357422),\n",
              " ('興趣', 0.1214483305811882),\n",
              " ('針對', 0.05112244933843613),\n",
              " ('技巧', 0.03312194347381592),\n",
              " ('客戶', 0.03065982460975647),\n",
              " ('效果', 0.020435377955436707),\n",
              " ('銷售', 0.015659235417842865)]"
            ]
          },
          "metadata": {},
          "execution_count": 79
        }
      ]
    }
  ]
}